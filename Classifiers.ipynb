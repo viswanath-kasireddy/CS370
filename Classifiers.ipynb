{
  "nbformat": 4,
  "nbformat_minor": 0,
  "metadata": {
    "colab": {
      "name": "Classifiers.ipynb",
      "provenance": [],
      "authorship_tag": "ABX9TyNV9PjWW9ON+RW8gHvCNzOG",
      "include_colab_link": true
    },
    "kernelspec": {
      "name": "python3",
      "display_name": "Python 3"
    },
    "language_info": {
      "name": "python"
    }
  },
  "cells": [
    {
      "cell_type": "markdown",
      "metadata": {
        "id": "view-in-github",
        "colab_type": "text"
      },
      "source": [
        "<a href=\"https://colab.research.google.com/github/viswanath-kasireddy/NBA-Research-Project/blob/main/Classifiers.ipynb\" target=\"_parent\"><img src=\"https://colab.research.google.com/assets/colab-badge.svg\" alt=\"Open In Colab\"/></a>"
      ]
    },
    {
      "cell_type": "markdown",
      "source": [
        "Standard imports\n"
      ],
      "metadata": {
        "id": "alyuTEtBZPja"
      }
    },
    {
      "cell_type": "code",
      "metadata": {
        "id": "HsaC8I0lu9NM"
      },
      "source": [
        "import pandas as pd\n",
        "import numpy as np\n",
        "from sklearn import metrics \n",
        "from sklearn.linear_model import LogisticRegression\n",
        "from sklearn import preprocessing\n",
        "from sklearn.pipeline import make_pipeline\n",
        "from sklearn.model_selection import train_test_split\n",
        "from sklearn.datasets import make_classification\n",
        "from sklearn.preprocessing import MinMaxScaler\n",
        "from sklearn.ensemble import RandomForestClassifier\n",
        "from sklearn.metrics import accuracy_score\n",
        "from sklearn.preprocessing import StandardScaler, MinMaxScaler\n",
        "import pandas_profiling\n",
        "import matplotlib.pyplot as plt\n",
        "import seaborn as sns\n",
        "from sklearn.ensemble import AdaBoostClassifier\n",
        "from sklearn.model_selection import cross_val_score\n",
        "from sklearn.model_selection import RepeatedStratifiedKFold\n",
        "from numpy import std\n",
        "from numpy import mean\n",
        "from sklearn import svm\n",
        "import altair as alt\n"
      ],
      "execution_count": 2,
      "outputs": []
    },
    {
      "cell_type": "markdown",
      "source": [
        "Clean Data"
      ],
      "metadata": {
        "id": "W0gJMyjxZR5Y"
      }
    },
    {
      "cell_type": "code",
      "metadata": {
        "id": "I67SYTtYwPO5"
      },
      "source": [
        "df = pd.read_csv('https://raw.githubusercontent.com/viswanath-kasireddy/CS370/main/Stat%20Tracking%20-%20Sheet1-2.csv')\n",
        "df = df.drop('Player', 1)\n",
        "df = df.drop('Game', 1)\n",
        "df = df[:-1]\n",
        "X = df.drop('Win_Loss',axis = 1)\n",
        "y = df.Win_Loss"
      ],
      "execution_count": 3,
      "outputs": []
    },
    {
      "cell_type": "markdown",
      "source": [
        "Logistic Regression model with train test splits"
      ],
      "metadata": {
        "id": "vRlXI4edZUKr"
      }
    },
    {
      "cell_type": "code",
      "metadata": {
        "colab": {
          "base_uri": "https://localhost:8080/"
        },
        "id": "ZfP8WIi-yzz1",
        "outputId": "e76db814-f358-426e-da28-71ff160166e3"
      },
      "source": [
        "\n",
        "X_train,X_test,y_train,y_test=train_test_split(X,y,test_size=0.25)\n",
        "scaler = preprocessing.StandardScaler()\n",
        "X_train_scaled = scaler.fit_transform(X_train)\n",
        "X_test_scaled = scaler.transform(X_test)\n",
        "logreg = LogisticRegression()\n",
        "logreg.fit(X_train_scaled,y_train)\n",
        "y_pred=logreg.predict(X_test_scaled)\n",
        "print(\"Accuracy:\",metrics.accuracy_score(y_test, y_pred))\n",
        "print(\"Precision:\",metrics.precision_score(y_test, y_pred))\n",
        "print(\"Recall:\",metrics.recall_score(y_test, y_pred)) "
      ],
      "execution_count": 4,
      "outputs": [
        {
          "output_type": "stream",
          "name": "stdout",
          "text": [
            "Accuracy: 0.8571428571428571\n",
            "Precision: 1.0\n",
            "Recall: 0.7777777777777778\n"
          ]
        }
      ]
    },
    {
      "cell_type": "markdown",
      "source": [
        "Logistic Regression model with Stratified K-Folds"
      ],
      "metadata": {
        "id": "TiWgSG1BZZ9S"
      }
    },
    {
      "cell_type": "code",
      "metadata": {
        "colab": {
          "base_uri": "https://localhost:8080/"
        },
        "id": "zI7jTb16Qr3-",
        "outputId": "fe434e71-2144-4cb9-a5fe-9870dfb75457"
      },
      "source": [
        "logreg = LogisticRegression()\n",
        "cv = RepeatedStratifiedKFold(n_splits=10, n_repeats=20)\n",
        "n_scores = cross_val_score(logreg, X, y, scoring='accuracy', cv=cv, n_jobs=-1, error_score='raise')\n",
        "print('Accuracy: %.3f (%.3f)' % (mean(n_scores), std(n_scores)))"
      ],
      "execution_count": 5,
      "outputs": [
        {
          "output_type": "stream",
          "name": "stdout",
          "text": [
            "Accuracy: 0.715 (0.185)\n"
          ]
        }
      ]
    },
    {
      "cell_type": "code",
      "metadata": {
        "id": "fWmf-lor09w3"
      },
      "source": [
        "#testing = np.array([143, 131, 2, 1, 1, 1, 1, 1, -1, 0, -1, 5, 1, 13, 0, 2, 1, 0, 5, .786]).reshape(1, -1)\n",
        "#scale = StandardScaler()\n",
        "#scale.fit_transform(X_train)\n",
        "#scale.transform(testing)\n",
        "#logreg.predict(testing)\n"
      ],
      "execution_count": 6,
      "outputs": []
    },
    {
      "cell_type": "markdown",
      "source": [
        "Random Forest model with train test splits"
      ],
      "metadata": {
        "id": "O__8PHHMZiLg"
      }
    },
    {
      "cell_type": "code",
      "metadata": {
        "colab": {
          "base_uri": "https://localhost:8080/"
        },
        "id": "aZRAlU8RChI2",
        "outputId": "66067286-5152-43b5-9243-1056b2c6d7e1"
      },
      "source": [
        "scaler = StandardScaler()\n",
        "X_scaled = scaler.fit_transform(X)\n",
        "X_train, X_test, y_train, y_test = train_test_split(X_scaled, y, stratify=y, test_size=0.25)\n",
        "RandomForest = RandomForestClassifier(n_estimators=100)\n",
        "RandomForest.fit(X_train, y_train)\n",
        "y_pred = RandomForest.predict(X_test)\n",
        "print(\"Accuracy:\",metrics.accuracy_score(y_test, y_pred))\n",
        "print(\"Precision:\",metrics.precision_score(y_test, y_pred))\n",
        "print(\"Recall:\",metrics.recall_score(y_test, y_pred))"
      ],
      "execution_count": 7,
      "outputs": [
        {
          "output_type": "stream",
          "name": "stdout",
          "text": [
            "Accuracy: 0.7142857142857143\n",
            "Precision: 0.8333333333333334\n",
            "Recall: 0.625\n"
          ]
        }
      ]
    },
    {
      "cell_type": "markdown",
      "source": [
        "Random Forest model with Stratified K-Folds"
      ],
      "metadata": {
        "id": "grs6VKTyZlHq"
      }
    },
    {
      "cell_type": "code",
      "metadata": {
        "colab": {
          "base_uri": "https://localhost:8080/"
        },
        "id": "6jRxw4n4QJhM",
        "outputId": "e1bda846-b428-40c5-aca0-07fe97e30cc9"
      },
      "source": [
        "RandomForest = RandomForestClassifier(n_estimators=100)\n",
        "cv = RepeatedStratifiedKFold(n_splits=10, n_repeats=20)\n",
        "n_scores = cross_val_score(RandomForest, X, y, scoring='accuracy', cv=cv, n_jobs=-1, error_score='raise')\n",
        "print('Accuracy: %.3f (%.3f)' % (mean(n_scores), std(n_scores)))"
      ],
      "execution_count": 8,
      "outputs": [
        {
          "output_type": "stream",
          "name": "stdout",
          "text": [
            "Accuracy: 0.719 (0.186)\n"
          ]
        }
      ]
    },
    {
      "cell_type": "code",
      "metadata": {
        "id": "MQ9BR9AOFbff"
      },
      "source": [
        "#testing = np.array([143, 131, 2, 1, 1, 1, 1, 1, -1, 0, -1, 5, 1, 13, 0, 2, 1, 0, 5, .786]).reshape(1, -1)\n",
        "#scale = StandardScaler()\n",
        "#scale.fit_transform(X_train)\n",
        "#scale.transform(testing)\n",
        "#RandomForest.predict(testing)"
      ],
      "execution_count": 9,
      "outputs": []
    },
    {
      "cell_type": "code",
      "metadata": {
        "id": "zSowpnq2JGac"
      },
      "source": [
        "# check Important features\n",
        "#feature_importances_df = pd.DataFrame(\n",
        "#    {\"feature\": list(X.columns), \"importance\": RandomForest.feature_importances_}\n",
        "#).sort_values(\"importance\", ascending=False)\n",
        "\n",
        "# Display\n",
        "#feature_importances_df"
      ],
      "execution_count": 10,
      "outputs": []
    },
    {
      "cell_type": "markdown",
      "source": [
        "Adaboosted Random Forest Model with Stratified K-Folds"
      ],
      "metadata": {
        "id": "5SDcD8aPZqU3"
      }
    },
    {
      "cell_type": "code",
      "metadata": {
        "id": "gpP2DnQKThmE",
        "colab": {
          "base_uri": "https://localhost:8080/"
        },
        "outputId": "e78a430f-c7b8-4146-df1f-f416c33d35ac"
      },
      "source": [
        "adaboost = AdaBoostClassifier(base_estimator=RandomForestClassifier(),n_estimators=50, learning_rate = .01)\n",
        "#adaboost.fit(X_train,y_train)\n",
        "#adaboost.score(X_train, y_train)\n",
        "#adaboost.score(X_test, y_test)\n",
        "cv = RepeatedStratifiedKFold(n_splits=10, n_repeats=20)\n",
        "n_scores = cross_val_score(adaboost, X, y, scoring='accuracy', cv=cv, n_jobs=-1, error_score='raise')\n",
        "print('Accuracy: %.3f (%.3f)' % (mean(n_scores), std(n_scores)))"
      ],
      "execution_count": 11,
      "outputs": [
        {
          "output_type": "stream",
          "name": "stdout",
          "text": [
            "Accuracy: 0.732 (0.179)\n"
          ]
        }
      ]
    },
    {
      "cell_type": "markdown",
      "source": [
        "Support Vector Machine with train test splits and rbf kernel"
      ],
      "metadata": {
        "id": "UtG6LEYJZvNA"
      }
    },
    {
      "cell_type": "code",
      "metadata": {
        "colab": {
          "base_uri": "https://localhost:8080/"
        },
        "id": "H6j9MRXLcww9",
        "outputId": "86854f0c-210c-4c1d-fd9a-3a29bee1ce6a"
      },
      "source": [
        "clf = svm.SVC(kernel='rbf')\n",
        "clf.fit(X_train, y_train)\n",
        "y_pred = clf.predict(X_test)\n",
        "print(\"Accuracy:\",metrics.accuracy_score(y_test, y_pred))\n",
        "print(\"Precision:\",metrics.precision_score(y_test, y_pred))\n",
        "print(\"Recall:\",metrics.recall_score(y_test, y_pred))"
      ],
      "execution_count": 12,
      "outputs": [
        {
          "output_type": "stream",
          "name": "stdout",
          "text": [
            "Accuracy: 0.5714285714285714\n",
            "Precision: 0.6\n",
            "Recall: 0.75\n"
          ]
        }
      ]
    },
    {
      "cell_type": "markdown",
      "source": [
        "Support Vector Machine with Stratified K-Folds"
      ],
      "metadata": {
        "id": "skWQYDa4Z3C0"
      }
    },
    {
      "cell_type": "code",
      "metadata": {
        "colab": {
          "base_uri": "https://localhost:8080/"
        },
        "id": "NF4-pdaFdA1l",
        "outputId": "a176519f-324c-4371-c796-ded504b05468"
      },
      "source": [
        "clf2 = RepeatedStratifiedKFold(n_splits=10, n_repeats=40)\n",
        "n_scores2 = cross_val_score(clf, X, y, scoring='accuracy', cv=cv, n_jobs=-1, error_score='raise')\n",
        "print('Accuracy: %.3f (%.3f)' % (mean(n_scores2), std(n_scores2)))"
      ],
      "execution_count": 13,
      "outputs": [
        {
          "output_type": "stream",
          "name": "stdout",
          "text": [
            "Accuracy: 0.577 (0.068)\n"
          ]
        }
      ]
    },
    {
      "cell_type": "markdown",
      "source": [
        "Support Vector Machine with train test splits and linear kernel."
      ],
      "metadata": {
        "id": "af-foby2Z8GM"
      }
    },
    {
      "cell_type": "code",
      "metadata": {
        "colab": {
          "base_uri": "https://localhost:8080/"
        },
        "id": "3zB53xVSeqKv",
        "outputId": "5a4dfc15-8ce1-4264-f09d-ff1e1d62d3dd"
      },
      "source": [
        "clf = svm.SVC(kernel='linear')\n",
        "clf.fit(X_train, y_train)\n",
        "y_pred = clf.predict(X_test)\n",
        "print(\"Accuracy:\",metrics.accuracy_score(y_test, y_pred))\n",
        "print(\"Precision:\",metrics.precision_score(y_test, y_pred))\n",
        "print(\"Recall:\",metrics.recall_score(y_test, y_pred))"
      ],
      "execution_count": 23,
      "outputs": [
        {
          "output_type": "stream",
          "name": "stdout",
          "text": [
            "Accuracy: 0.7142857142857143\n",
            "Precision: 0.75\n",
            "Recall: 0.75\n"
          ]
        }
      ]
    },
    {
      "cell_type": "markdown",
      "source": [
        "Support Vector Machine with Stratified K-Folds and linear kernel. Most sound model with around ~80 percent accuracy."
      ],
      "metadata": {
        "id": "sybAw_v8aBof"
      }
    },
    {
      "cell_type": "code",
      "metadata": {
        "colab": {
          "base_uri": "https://localhost:8080/"
        },
        "id": "Vk84zE1TevCa",
        "outputId": "e956ef96-4613-4bdb-95e7-d52d9f8c4beb"
      },
      "source": [
        "clf2 = RepeatedStratifiedKFold(n_splits=10, n_repeats=40)\n",
        "n_scores2 = cross_val_score(clf, X, y, scoring='accuracy', cv=cv, n_jobs=-1, error_score='raise')\n",
        "print('Accuracy: %.3f (%.3f)' % (mean(n_scores2), std(n_scores2)))"
      ],
      "execution_count": 15,
      "outputs": [
        {
          "output_type": "stream",
          "name": "stdout",
          "text": [
            "Accuracy: 0.812 (0.166)\n"
          ]
        }
      ]
    }
  ]
}